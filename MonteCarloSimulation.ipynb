{
 "cells": [
  {
   "cell_type": "code",
   "execution_count": 1,
   "metadata": {},
   "outputs": [
    {
     "name": "stdout",
     "output_type": "stream",
     "text": [
      "There was some error downloading data from the server. Trying again......\n"
     ]
    }
   ],
   "source": [
    "import pandas as pd\n",
    "import pandas_datareader as web\n",
    "import datetime as dt\n",
    "import numpy as np\n",
    "import matplotlib.pyplot as plt\n",
    "from matplotlib import style\n",
    "from pandas_datareader._utils import RemoteDataError\n",
    "import requests.exceptions as req\n",
    "import math \n",
    "import matplotlib.mlab as mlab\n",
    "from scipy.stats import t\n",
    "\n",
    "style.use('ggplot')\n",
    "\n",
    "def readstore():\n",
    "    start = dt.datetime(2015, 1, 3)\n",
    "    end = dt.datetime(2017, 12, 6)\n",
    "    prices = web.DataReader('BTC-USD', 'yahoo', start, end)[['Open','Close']]  # give option for EUR, INR\n",
    "    return prices\n",
    "\n",
    "data_loaded=False\n",
    "while not data_loaded:\n",
    "    try:\n",
    "        prices=readstore()\n",
    "        data_loaded=True\n",
    "    except RemoteDataError as e:\n",
    "        print(\"There was some error downloading data from the server. Trying again......\")\n",
    "    except req.ConnectionError as e:\n",
    "        print(\"Unable to download BITCOIN Dataset due to internect connectivity issues: \", e)\n",
    "        break\n"
   ]
  },
  {
   "cell_type": "code",
   "execution_count": 2,
   "metadata": {},
   "outputs": [],
   "source": [
    "if data_loaded==True:\n",
    "    days=252 #Number of working days in a year\n",
    "    returns=np.log(prices['Close']/prices['Open'])    \n",
    "    daily_volatility = np.std(returns)\n",
    "    annual_volatility = daily_volatility*((days)**(1/2))\n",
    "    daily_drift  = np.average(returns)\n",
    "    annual_drift = daily_drift*365\n",
    "    mean_drift = daily_drift-0.5*daily_volatility**2\n",
    "   \n",
    "    num_simulations=1000  #Number of simulations\n",
    "   \n",
    "    sim_df=pd.DataFrame()\n",
    "    scores = []\n",
    "\n",
    "    for x in range(num_simulations):\n",
    "        count=0\n",
    "        price_series=[]\n",
    "        last_price=prices['Close'][-1]\n",
    "        score = last_price*math.e**((annual_drift-0.5*annual_volatility**2)+annual_volatility*np.random.normal(0,1))\n",
    "        scores.append(score)\n",
    "        for y in range(days):\n",
    "            if count==252:\n",
    "                break\n",
    "            log_return = mean_drift+(daily_volatility*np.random.normal(0,1))\n",
    "            price = last_price*(math.e**log_return)\n",
    "            price_series.append(price)\n",
    "            last_price=price\n",
    "            count+=1\n",
    "\n",
    "        sim_df[x]=price_series\n",
    "\n",
    "    fig=plt.figure()\n",
    "    fig.suptitle('Monte Carlo Simulation for predicting the value of BITCOINS')\n",
    "    plt.plot(sim_df)\n",
    "    plt.axhline(y=prices['Close'][-1], color='r',linestyle='-')\n",
    "    plt.xlabel('Day')\n",
    "    plt.ylabel('Price')\n",
    "    plt.show()\n"
   ]
  },
  {
   "cell_type": "code",
   "execution_count": 3,
   "metadata": {},
   "outputs": [
    {
     "name": "stdout",
     "output_type": "stream",
     "text": [
      "Avg:64575.848233\n",
      "Median:53128.9888649\n",
      "Min:7333.18734746\n",
      "Max:301381.672182\n",
      "Mean:64575.848233\n",
      "Confidence Interval 95%: 62029.470216, 67122.226250\n"
     ]
    }
   ],
   "source": [
    "b_std = np.std(scores)\n",
    "b_mean = np.mean(scores)\n",
    "# Calculating end values of the 95% confidence interval\n",
    "end_vals = t.interval(0.95, len(scores) - 1)\n",
    "# Calculating Confidence Interval\n",
    "conf_interval = [b_mean + cval * b_std / np.sqrt(len(scores)) for cval in end_vals]\n",
    "print(\"Avg:\" + str(np.average(scores)))\n",
    "print(\"Median:\" + str(np.median(scores)))\n",
    "print(\"Min:\" + str(np.min(scores)))\n",
    "print(\"Max:\" + str(np.max(scores)))\n",
    "print(\"Mean:\" + str(b_mean))\n",
    "print(\"Confidence Interval 95%%: %f, %f\" % (conf_interval[0], conf_interval[1]))"
   ]
  },
  {
   "cell_type": "code",
   "execution_count": 4,
   "metadata": {},
   "outputs": [],
   "source": [
    "n, bins, patches = plt.hist(scores,100, normed=1, facecolor='green', alpha=0.5)\n",
    "# Adding a 'best fit' line\n",
    "y = mlab.normpdf(bins,np.median(scores), np.std(scores))\n",
    "plt.plot(bins, y, 'r--')\n",
    "plt.xlabel('Price')\n",
    "plt.ylabel('Frequency')\n",
    "plt.show()"
   ]
  },
  {
   "cell_type": "code",
   "execution_count": null,
   "metadata": {
    "collapsed": true
   },
   "outputs": [],
   "source": []
  }
 ],
 "metadata": {
  "kernelspec": {
   "display_name": "Python 3",
   "language": "python",
   "name": "python3"
  },
  "language_info": {
   "codemirror_mode": {
    "name": "ipython",
    "version": 3
   },
   "file_extension": ".py",
   "mimetype": "text/x-python",
   "name": "python",
   "nbconvert_exporter": "python",
   "pygments_lexer": "ipython3",
   "version": "3.6.3"
  }
 },
 "nbformat": 4,
 "nbformat_minor": 2
}
